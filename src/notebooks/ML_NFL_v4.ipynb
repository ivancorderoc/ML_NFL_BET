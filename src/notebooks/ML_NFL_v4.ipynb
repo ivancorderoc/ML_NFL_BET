{
 "cells": [
  {
   "cell_type": "markdown",
   "metadata": {},
   "source": [
    "## PROYECTO MACHINE LEARNING\n",
    "#### NFL ODDS PREDICTION"
   ]
  },
  {
   "cell_type": "code",
   "execution_count": null,
   "metadata": {},
   "outputs": [],
   "source": [
    "from utils.libreries import *"
   ]
  },
  {
   "cell_type": "code",
   "execution_count": 36,
   "metadata": {},
   "outputs": [
    {
     "data": {
      "text/html": [
       "<div>\n",
       "<style scoped>\n",
       "    .dataframe tbody tr th:only-of-type {\n",
       "        vertical-align: middle;\n",
       "    }\n",
       "\n",
       "    .dataframe tbody tr th {\n",
       "        vertical-align: top;\n",
       "    }\n",
       "\n",
       "    .dataframe thead th {\n",
       "        text-align: right;\n",
       "    }\n",
       "</style>\n",
       "<table border=\"1\" class=\"dataframe\">\n",
       "  <thead>\n",
       "    <tr style=\"text-align: right;\">\n",
       "      <th></th>\n",
       "      <th>schedule_date</th>\n",
       "      <th>schedule_season</th>\n",
       "      <th>schedule_week</th>\n",
       "      <th>schedule_playoff</th>\n",
       "      <th>team_home</th>\n",
       "      <th>score_home</th>\n",
       "      <th>score_away</th>\n",
       "      <th>team_away</th>\n",
       "      <th>team_favorite_id</th>\n",
       "      <th>spread_favorite</th>\n",
       "      <th>over_under_line</th>\n",
       "      <th>stadium</th>\n",
       "      <th>stadium_neutral</th>\n",
       "      <th>weather_temperature</th>\n",
       "      <th>weather_wind_mph</th>\n",
       "      <th>weather_humidity</th>\n",
       "      <th>weather_detail</th>\n",
       "    </tr>\n",
       "  </thead>\n",
       "  <tbody>\n",
       "    <tr>\n",
       "      <th>0</th>\n",
       "      <td>9/2/1966</td>\n",
       "      <td>1966</td>\n",
       "      <td>1</td>\n",
       "      <td>False</td>\n",
       "      <td>Miami Dolphins</td>\n",
       "      <td>14</td>\n",
       "      <td>23</td>\n",
       "      <td>Oakland Raiders</td>\n",
       "      <td>NaN</td>\n",
       "      <td>NaN</td>\n",
       "      <td>NaN</td>\n",
       "      <td>Orange Bowl</td>\n",
       "      <td>False</td>\n",
       "      <td>83.0</td>\n",
       "      <td>6.0</td>\n",
       "      <td>71.0</td>\n",
       "      <td>NaN</td>\n",
       "    </tr>\n",
       "    <tr>\n",
       "      <th>1</th>\n",
       "      <td>9/3/1966</td>\n",
       "      <td>1966</td>\n",
       "      <td>1</td>\n",
       "      <td>False</td>\n",
       "      <td>Houston Oilers</td>\n",
       "      <td>45</td>\n",
       "      <td>7</td>\n",
       "      <td>Denver Broncos</td>\n",
       "      <td>NaN</td>\n",
       "      <td>NaN</td>\n",
       "      <td>NaN</td>\n",
       "      <td>Rice Stadium</td>\n",
       "      <td>False</td>\n",
       "      <td>81.0</td>\n",
       "      <td>7.0</td>\n",
       "      <td>70.0</td>\n",
       "      <td>NaN</td>\n",
       "    </tr>\n",
       "    <tr>\n",
       "      <th>2</th>\n",
       "      <td>9/4/1966</td>\n",
       "      <td>1966</td>\n",
       "      <td>1</td>\n",
       "      <td>False</td>\n",
       "      <td>San Diego Chargers</td>\n",
       "      <td>27</td>\n",
       "      <td>7</td>\n",
       "      <td>Buffalo Bills</td>\n",
       "      <td>NaN</td>\n",
       "      <td>NaN</td>\n",
       "      <td>NaN</td>\n",
       "      <td>Balboa Stadium</td>\n",
       "      <td>False</td>\n",
       "      <td>70.0</td>\n",
       "      <td>7.0</td>\n",
       "      <td>82.0</td>\n",
       "      <td>NaN</td>\n",
       "    </tr>\n",
       "    <tr>\n",
       "      <th>3</th>\n",
       "      <td>9/9/1966</td>\n",
       "      <td>1966</td>\n",
       "      <td>2</td>\n",
       "      <td>False</td>\n",
       "      <td>Miami Dolphins</td>\n",
       "      <td>14</td>\n",
       "      <td>19</td>\n",
       "      <td>New York Jets</td>\n",
       "      <td>NaN</td>\n",
       "      <td>NaN</td>\n",
       "      <td>NaN</td>\n",
       "      <td>Orange Bowl</td>\n",
       "      <td>False</td>\n",
       "      <td>82.0</td>\n",
       "      <td>11.0</td>\n",
       "      <td>78.0</td>\n",
       "      <td>NaN</td>\n",
       "    </tr>\n",
       "    <tr>\n",
       "      <th>4</th>\n",
       "      <td>9/10/1966</td>\n",
       "      <td>1966</td>\n",
       "      <td>1</td>\n",
       "      <td>False</td>\n",
       "      <td>Green Bay Packers</td>\n",
       "      <td>24</td>\n",
       "      <td>3</td>\n",
       "      <td>Baltimore Colts</td>\n",
       "      <td>NaN</td>\n",
       "      <td>NaN</td>\n",
       "      <td>NaN</td>\n",
       "      <td>Lambeau Field</td>\n",
       "      <td>False</td>\n",
       "      <td>64.0</td>\n",
       "      <td>8.0</td>\n",
       "      <td>62.0</td>\n",
       "      <td>NaN</td>\n",
       "    </tr>\n",
       "  </tbody>\n",
       "</table>\n",
       "</div>"
      ],
      "text/plain": [
       "  schedule_date  schedule_season schedule_week  schedule_playoff  \\\n",
       "0      9/2/1966             1966             1             False   \n",
       "1      9/3/1966             1966             1             False   \n",
       "2      9/4/1966             1966             1             False   \n",
       "3      9/9/1966             1966             2             False   \n",
       "4     9/10/1966             1966             1             False   \n",
       "\n",
       "            team_home  score_home  score_away        team_away  \\\n",
       "0      Miami Dolphins          14          23  Oakland Raiders   \n",
       "1      Houston Oilers          45           7   Denver Broncos   \n",
       "2  San Diego Chargers          27           7    Buffalo Bills   \n",
       "3      Miami Dolphins          14          19    New York Jets   \n",
       "4   Green Bay Packers          24           3  Baltimore Colts   \n",
       "\n",
       "  team_favorite_id  spread_favorite over_under_line         stadium  \\\n",
       "0              NaN              NaN             NaN     Orange Bowl   \n",
       "1              NaN              NaN             NaN    Rice Stadium   \n",
       "2              NaN              NaN             NaN  Balboa Stadium   \n",
       "3              NaN              NaN             NaN     Orange Bowl   \n",
       "4              NaN              NaN             NaN   Lambeau Field   \n",
       "\n",
       "   stadium_neutral  weather_temperature  weather_wind_mph  weather_humidity  \\\n",
       "0            False                 83.0               6.0              71.0   \n",
       "1            False                 81.0               7.0              70.0   \n",
       "2            False                 70.0               7.0              82.0   \n",
       "3            False                 82.0              11.0              78.0   \n",
       "4            False                 64.0               8.0              62.0   \n",
       "\n",
       "  weather_detail  \n",
       "0            NaN  \n",
       "1            NaN  \n",
       "2            NaN  \n",
       "3            NaN  \n",
       "4            NaN  "
      ]
     },
     "execution_count": 36,
     "metadata": {},
     "output_type": "execute_result"
    }
   ],
   "source": [
    "file_path = \"data/raw/spreadspoke_scores.csv\"\n",
    "\n",
    "#Hacemos la llamada a nuestro DF\n",
    "scores = pd.read_csv(file_path)\n",
    "scores.head(5)"
   ]
  },
  {
   "cell_type": "code",
   "execution_count": 37,
   "metadata": {},
   "outputs": [
    {
     "data": {
      "text/html": [
       "<div>\n",
       "<style scoped>\n",
       "    .dataframe tbody tr th:only-of-type {\n",
       "        vertical-align: middle;\n",
       "    }\n",
       "\n",
       "    .dataframe tbody tr th {\n",
       "        vertical-align: top;\n",
       "    }\n",
       "\n",
       "    .dataframe thead th {\n",
       "        text-align: right;\n",
       "    }\n",
       "</style>\n",
       "<table border=\"1\" class=\"dataframe\">\n",
       "  <thead>\n",
       "    <tr style=\"text-align: right;\">\n",
       "      <th></th>\n",
       "      <th>count</th>\n",
       "      <th>mean</th>\n",
       "      <th>std</th>\n",
       "      <th>min</th>\n",
       "      <th>25%</th>\n",
       "      <th>50%</th>\n",
       "      <th>75%</th>\n",
       "      <th>max</th>\n",
       "    </tr>\n",
       "  </thead>\n",
       "  <tbody>\n",
       "    <tr>\n",
       "      <th>schedule_season</th>\n",
       "      <td>13516.0</td>\n",
       "      <td>1996.082939</td>\n",
       "      <td>16.144258</td>\n",
       "      <td>1966.0</td>\n",
       "      <td>1983.0</td>\n",
       "      <td>1997.0</td>\n",
       "      <td>2010.0</td>\n",
       "      <td>2022.0</td>\n",
       "    </tr>\n",
       "    <tr>\n",
       "      <th>score_home</th>\n",
       "      <td>13516.0</td>\n",
       "      <td>22.461897</td>\n",
       "      <td>10.526423</td>\n",
       "      <td>0.0</td>\n",
       "      <td>15.0</td>\n",
       "      <td>22.0</td>\n",
       "      <td>29.0</td>\n",
       "      <td>72.0</td>\n",
       "    </tr>\n",
       "    <tr>\n",
       "      <th>score_away</th>\n",
       "      <td>13516.0</td>\n",
       "      <td>19.784848</td>\n",
       "      <td>10.165222</td>\n",
       "      <td>0.0</td>\n",
       "      <td>13.0</td>\n",
       "      <td>20.0</td>\n",
       "      <td>27.0</td>\n",
       "      <td>62.0</td>\n",
       "    </tr>\n",
       "    <tr>\n",
       "      <th>spread_favorite</th>\n",
       "      <td>11037.0</td>\n",
       "      <td>-5.385204</td>\n",
       "      <td>3.439617</td>\n",
       "      <td>-26.5</td>\n",
       "      <td>-7.0</td>\n",
       "      <td>-4.5</td>\n",
       "      <td>-3.0</td>\n",
       "      <td>0.0</td>\n",
       "    </tr>\n",
       "    <tr>\n",
       "      <th>weather_temperature</th>\n",
       "      <td>12309.0</td>\n",
       "      <td>58.833211</td>\n",
       "      <td>15.538656</td>\n",
       "      <td>-6.0</td>\n",
       "      <td>48.0</td>\n",
       "      <td>62.0</td>\n",
       "      <td>72.0</td>\n",
       "      <td>97.0</td>\n",
       "    </tr>\n",
       "    <tr>\n",
       "      <th>weather_wind_mph</th>\n",
       "      <td>12293.0</td>\n",
       "      <td>7.689010</td>\n",
       "      <td>5.694124</td>\n",
       "      <td>0.0</td>\n",
       "      <td>3.0</td>\n",
       "      <td>8.0</td>\n",
       "      <td>11.0</td>\n",
       "      <td>40.0</td>\n",
       "    </tr>\n",
       "    <tr>\n",
       "      <th>weather_humidity</th>\n",
       "      <td>8468.0</td>\n",
       "      <td>67.212801</td>\n",
       "      <td>15.796414</td>\n",
       "      <td>4.0</td>\n",
       "      <td>57.0</td>\n",
       "      <td>69.0</td>\n",
       "      <td>79.0</td>\n",
       "      <td>100.0</td>\n",
       "    </tr>\n",
       "  </tbody>\n",
       "</table>\n",
       "</div>"
      ],
      "text/plain": [
       "                       count         mean        std     min     25%     50%  \\\n",
       "schedule_season      13516.0  1996.082939  16.144258  1966.0  1983.0  1997.0   \n",
       "score_home           13516.0    22.461897  10.526423     0.0    15.0    22.0   \n",
       "score_away           13516.0    19.784848  10.165222     0.0    13.0    20.0   \n",
       "spread_favorite      11037.0    -5.385204   3.439617   -26.5    -7.0    -4.5   \n",
       "weather_temperature  12309.0    58.833211  15.538656    -6.0    48.0    62.0   \n",
       "weather_wind_mph     12293.0     7.689010   5.694124     0.0     3.0     8.0   \n",
       "weather_humidity      8468.0    67.212801  15.796414     4.0    57.0    69.0   \n",
       "\n",
       "                        75%     max  \n",
       "schedule_season      2010.0  2022.0  \n",
       "score_home             29.0    72.0  \n",
       "score_away             27.0    62.0  \n",
       "spread_favorite        -3.0     0.0  \n",
       "weather_temperature    72.0    97.0  \n",
       "weather_wind_mph       11.0    40.0  \n",
       "weather_humidity       79.0   100.0  "
      ]
     },
     "execution_count": 37,
     "metadata": {},
     "output_type": "execute_result"
    }
   ],
   "source": [
    "scores.describe().T"
   ]
  },
  {
   "cell_type": "code",
   "execution_count": 38,
   "metadata": {},
   "outputs": [
    {
     "data": {
      "text/plain": [
       "schedule_date              0\n",
       "schedule_season            0\n",
       "schedule_week              0\n",
       "schedule_playoff           0\n",
       "team_home                  0\n",
       "score_home                 0\n",
       "score_away                 0\n",
       "team_away                  0\n",
       "team_favorite_id        2479\n",
       "spread_favorite         2479\n",
       "over_under_line         2489\n",
       "stadium                    0\n",
       "stadium_neutral            0\n",
       "weather_temperature     1207\n",
       "weather_wind_mph        1223\n",
       "weather_humidity        5048\n",
       "weather_detail         10597\n",
       "dtype: int64"
      ]
     },
     "execution_count": 38,
     "metadata": {},
     "output_type": "execute_result"
    }
   ],
   "source": [
    "scores.isnull().sum()"
   ]
  },
  {
   "cell_type": "code",
   "execution_count": 39,
   "metadata": {},
   "outputs": [
    {
     "name": "stdout",
     "output_type": "stream",
     "text": [
      "<class 'pandas.core.frame.DataFrame'>\n",
      "RangeIndex: 13516 entries, 0 to 13515\n",
      "Data columns (total 17 columns):\n",
      " #   Column               Non-Null Count  Dtype  \n",
      "---  ------               --------------  -----  \n",
      " 0   schedule_date        13516 non-null  object \n",
      " 1   schedule_season      13516 non-null  int64  \n",
      " 2   schedule_week        13516 non-null  object \n",
      " 3   schedule_playoff     13516 non-null  bool   \n",
      " 4   team_home            13516 non-null  object \n",
      " 5   score_home           13516 non-null  int64  \n",
      " 6   score_away           13516 non-null  int64  \n",
      " 7   team_away            13516 non-null  object \n",
      " 8   team_favorite_id     11037 non-null  object \n",
      " 9   spread_favorite      11037 non-null  float64\n",
      " 10  over_under_line      11027 non-null  object \n",
      " 11  stadium              13516 non-null  object \n",
      " 12  stadium_neutral      13516 non-null  bool   \n",
      " 13  weather_temperature  12309 non-null  float64\n",
      " 14  weather_wind_mph     12293 non-null  float64\n",
      " 15  weather_humidity     8468 non-null   float64\n",
      " 16  weather_detail       2919 non-null   object \n",
      "dtypes: bool(2), float64(4), int64(3), object(8)\n",
      "memory usage: 1.6+ MB\n"
     ]
    }
   ],
   "source": [
    "scores.info()"
   ]
  },
  {
   "attachments": {},
   "cell_type": "markdown",
   "metadata": {},
   "source": [
    "### DATA PROCESSING\n",
    "\n",
    "Después de cargar nuestros datos en crudo procedemos a trabajar sobre ellos."
   ]
  },
  {
   "cell_type": "code",
   "execution_count": 40,
   "metadata": {},
   "outputs": [],
   "source": [
    "#Nos quedamos solo con la temporada regular. Procedemos a eliminar los playoffs\n",
    "scores = scores[scores['schedule_playoff'] == 0]\n",
    "scores = scores.loc[scores['schedule_season'] >= 1980]"
   ]
  },
  {
   "cell_type": "code",
   "execution_count": 41,
   "metadata": {},
   "outputs": [],
   "source": [
    "#Establecemos como punto de partida la temporada 1980.\n",
    "# scores = scores.loc[scores['schedule_season'] >= 1980]"
   ]
  },
  {
   "cell_type": "code",
   "execution_count": 42,
   "metadata": {},
   "outputs": [],
   "source": [
    "#Cambiamos el formato de las columnas para que sean numéricas\n",
    "scores = scores.astype({'schedule_playoff': int,\n",
    "                        'schedule_week': int,\n",
    "                        'over_under_line': float\n",
    "                        })"
   ]
  },
  {
   "cell_type": "code",
   "execution_count": 43,
   "metadata": {},
   "outputs": [],
   "source": [
    "from datetime import datetime\n",
    "\n",
    "def transform_date(schedule_date):\n",
    "    \"\"\"\n",
    "    Transforma la fecha en formato \"mm/dd/yyyy\" a \"mm-dd-yyyy\".\n",
    "    \"\"\"\n",
    "    date1 = datetime.strptime(schedule_date, \"%m/%d/%Y\")\n",
    "    return date1.strftime(\"%m-%d-%Y\")\n",
    "\n",
    "# Transformar la columna 'schedule_date' del DataFrame 'scores'\n",
    "scores['schedule_date'] = scores['schedule_date'].apply(transform_date)\n"
   ]
  },
  {
   "cell_type": "code",
   "execution_count": 44,
   "metadata": {},
   "outputs": [
    {
     "data": {
      "text/plain": [
       "schedule_date             0\n",
       "schedule_season           0\n",
       "schedule_week             0\n",
       "schedule_playoff          0\n",
       "team_home                 0\n",
       "score_home                0\n",
       "score_away                0\n",
       "team_away                 0\n",
       "team_favorite_id          0\n",
       "spread_favorite           0\n",
       "over_under_line           0\n",
       "stadium                   0\n",
       "stadium_neutral           0\n",
       "weather_temperature     692\n",
       "weather_wind_mph        691\n",
       "weather_humidity       4188\n",
       "weather_detail         7690\n",
       "dtype: int64"
      ]
     },
     "execution_count": 44,
     "metadata": {},
     "output_type": "execute_result"
    }
   ],
   "source": [
    "#Eliminamos los NANs de las columnas debido su antiguedad y que pueden ser irrelevantes\n",
    "scores.isnull().sum()"
   ]
  },
  {
   "cell_type": "code",
   "execution_count": 45,
   "metadata": {},
   "outputs": [],
   "source": [
    "# Eliminamos las columnas que no nos interesan debido a alto numero de NANs \"weather_detail\", \"weather_humidity\"\n",
    "# Eliminamos la columna \"schedule_playoff\" que no nos interesa \n",
    "\n",
    "scores = scores.drop(columns=[\"schedule_playoff\",\"weather_detail\", \"weather_humidity\", \"stadium_neutral\"])"
   ]
  },
  {
   "cell_type": "code",
   "execution_count": 46,
   "metadata": {},
   "outputs": [],
   "source": [
    "#Tratamos los Nans de nuestras columnas. Para la columna \"weather_temperature\" utizamos media al ser simitrica su distrubucion.\n",
    "# Para la columna \"weather_humidity\" la media debido a que tiende a ser una distrubucion logaritmica.\n",
    "scores = scores.fillna({'weather_temperature': scores['weather_temperature'].median(),\n",
    "                        'weather_wind_mph': (scores['weather_wind_mph'].median())})\n"
   ]
  },
  {
   "cell_type": "code",
   "execution_count": 47,
   "metadata": {},
   "outputs": [],
   "source": [
    "scores = scores.reset_index(drop=True)"
   ]
  },
  {
   "cell_type": "code",
   "execution_count": 48,
   "metadata": {},
   "outputs": [
    {
     "data": {
      "text/html": [
       "<div>\n",
       "<style scoped>\n",
       "    .dataframe tbody tr th:only-of-type {\n",
       "        vertical-align: middle;\n",
       "    }\n",
       "\n",
       "    .dataframe tbody tr th {\n",
       "        vertical-align: top;\n",
       "    }\n",
       "\n",
       "    .dataframe thead th {\n",
       "        text-align: right;\n",
       "    }\n",
       "</style>\n",
       "<table border=\"1\" class=\"dataframe\">\n",
       "  <thead>\n",
       "    <tr style=\"text-align: right;\">\n",
       "      <th></th>\n",
       "      <th>schedule_date</th>\n",
       "      <th>schedule_season</th>\n",
       "      <th>schedule_week</th>\n",
       "      <th>team_home</th>\n",
       "      <th>score_home</th>\n",
       "      <th>score_away</th>\n",
       "      <th>team_away</th>\n",
       "      <th>team_favorite_id</th>\n",
       "      <th>spread_favorite</th>\n",
       "      <th>over_under_line</th>\n",
       "      <th>stadium</th>\n",
       "      <th>weather_temperature</th>\n",
       "      <th>weather_wind_mph</th>\n",
       "    </tr>\n",
       "  </thead>\n",
       "  <tbody>\n",
       "    <tr>\n",
       "      <th>0</th>\n",
       "      <td>09-07-1980</td>\n",
       "      <td>1980</td>\n",
       "      <td>1</td>\n",
       "      <td>Buffalo Bills</td>\n",
       "      <td>17</td>\n",
       "      <td>7</td>\n",
       "      <td>Miami Dolphins</td>\n",
       "      <td>MIA</td>\n",
       "      <td>-3.0</td>\n",
       "      <td>35.0</td>\n",
       "      <td>Ralph Wilson Stadium</td>\n",
       "      <td>64.0</td>\n",
       "      <td>8.0</td>\n",
       "    </tr>\n",
       "    <tr>\n",
       "      <th>1</th>\n",
       "      <td>09-07-1980</td>\n",
       "      <td>1980</td>\n",
       "      <td>1</td>\n",
       "      <td>Cincinnati Bengals</td>\n",
       "      <td>12</td>\n",
       "      <td>17</td>\n",
       "      <td>Tampa Bay Buccaneers</td>\n",
       "      <td>TB</td>\n",
       "      <td>-1.0</td>\n",
       "      <td>34.0</td>\n",
       "      <td>Cinergy Field</td>\n",
       "      <td>72.0</td>\n",
       "      <td>9.0</td>\n",
       "    </tr>\n",
       "    <tr>\n",
       "      <th>2</th>\n",
       "      <td>09-07-1980</td>\n",
       "      <td>1980</td>\n",
       "      <td>1</td>\n",
       "      <td>Green Bay Packers</td>\n",
       "      <td>12</td>\n",
       "      <td>6</td>\n",
       "      <td>Chicago Bears</td>\n",
       "      <td>CHI</td>\n",
       "      <td>-6.0</td>\n",
       "      <td>35.0</td>\n",
       "      <td>Lambeau Field</td>\n",
       "      <td>65.0</td>\n",
       "      <td>5.0</td>\n",
       "    </tr>\n",
       "    <tr>\n",
       "      <th>3</th>\n",
       "      <td>09-07-1980</td>\n",
       "      <td>1980</td>\n",
       "      <td>1</td>\n",
       "      <td>Kansas City Chiefs</td>\n",
       "      <td>14</td>\n",
       "      <td>27</td>\n",
       "      <td>Oakland Raiders</td>\n",
       "      <td>KC</td>\n",
       "      <td>-3.0</td>\n",
       "      <td>42.0</td>\n",
       "      <td>Arrowhead Stadium</td>\n",
       "      <td>82.0</td>\n",
       "      <td>10.0</td>\n",
       "    </tr>\n",
       "    <tr>\n",
       "      <th>4</th>\n",
       "      <td>09-07-1980</td>\n",
       "      <td>1980</td>\n",
       "      <td>1</td>\n",
       "      <td>Los Angeles Rams</td>\n",
       "      <td>20</td>\n",
       "      <td>41</td>\n",
       "      <td>Detroit Lions</td>\n",
       "      <td>LAR</td>\n",
       "      <td>-9.0</td>\n",
       "      <td>38.0</td>\n",
       "      <td>Anaheim Stadium</td>\n",
       "      <td>66.0</td>\n",
       "      <td>11.0</td>\n",
       "    </tr>\n",
       "    <tr>\n",
       "      <th>...</th>\n",
       "      <td>...</td>\n",
       "      <td>...</td>\n",
       "      <td>...</td>\n",
       "      <td>...</td>\n",
       "      <td>...</td>\n",
       "      <td>...</td>\n",
       "      <td>...</td>\n",
       "      <td>...</td>\n",
       "      <td>...</td>\n",
       "      <td>...</td>\n",
       "      <td>...</td>\n",
       "      <td>...</td>\n",
       "      <td>...</td>\n",
       "    </tr>\n",
       "    <tr>\n",
       "      <th>10312</th>\n",
       "      <td>01-08-2023</td>\n",
       "      <td>2022</td>\n",
       "      <td>18</td>\n",
       "      <td>Philadelphia Eagles</td>\n",
       "      <td>22</td>\n",
       "      <td>16</td>\n",
       "      <td>New York Giants</td>\n",
       "      <td>PHI</td>\n",
       "      <td>-17.0</td>\n",
       "      <td>43.0</td>\n",
       "      <td>Lincoln Financial Field</td>\n",
       "      <td>64.0</td>\n",
       "      <td>7.0</td>\n",
       "    </tr>\n",
       "    <tr>\n",
       "      <th>10313</th>\n",
       "      <td>01-08-2023</td>\n",
       "      <td>2022</td>\n",
       "      <td>18</td>\n",
       "      <td>Pittsburgh Steelers</td>\n",
       "      <td>28</td>\n",
       "      <td>14</td>\n",
       "      <td>Cleveland Browns</td>\n",
       "      <td>PIT</td>\n",
       "      <td>-2.5</td>\n",
       "      <td>40.0</td>\n",
       "      <td>Acrisure Stadium</td>\n",
       "      <td>64.0</td>\n",
       "      <td>7.0</td>\n",
       "    </tr>\n",
       "    <tr>\n",
       "      <th>10314</th>\n",
       "      <td>01-08-2023</td>\n",
       "      <td>2022</td>\n",
       "      <td>18</td>\n",
       "      <td>San Francisco 49ers</td>\n",
       "      <td>38</td>\n",
       "      <td>13</td>\n",
       "      <td>Arizona Cardinals</td>\n",
       "      <td>SF</td>\n",
       "      <td>-14.5</td>\n",
       "      <td>40.0</td>\n",
       "      <td>Levi's Stadium</td>\n",
       "      <td>64.0</td>\n",
       "      <td>7.0</td>\n",
       "    </tr>\n",
       "    <tr>\n",
       "      <th>10315</th>\n",
       "      <td>01-08-2023</td>\n",
       "      <td>2022</td>\n",
       "      <td>18</td>\n",
       "      <td>Seattle Seahawks</td>\n",
       "      <td>19</td>\n",
       "      <td>16</td>\n",
       "      <td>Los Angeles Rams</td>\n",
       "      <td>SEA</td>\n",
       "      <td>-4.5</td>\n",
       "      <td>43.0</td>\n",
       "      <td>Lumen Field</td>\n",
       "      <td>64.0</td>\n",
       "      <td>7.0</td>\n",
       "    </tr>\n",
       "    <tr>\n",
       "      <th>10316</th>\n",
       "      <td>01-08-2023</td>\n",
       "      <td>2022</td>\n",
       "      <td>18</td>\n",
       "      <td>Washington Commanders</td>\n",
       "      <td>26</td>\n",
       "      <td>6</td>\n",
       "      <td>Dallas Cowboys</td>\n",
       "      <td>DAL</td>\n",
       "      <td>-7.5</td>\n",
       "      <td>41.0</td>\n",
       "      <td>FedEx Field</td>\n",
       "      <td>64.0</td>\n",
       "      <td>7.0</td>\n",
       "    </tr>\n",
       "  </tbody>\n",
       "</table>\n",
       "<p>10317 rows × 13 columns</p>\n",
       "</div>"
      ],
      "text/plain": [
       "      schedule_date  schedule_season  schedule_week              team_home  \\\n",
       "0        09-07-1980             1980              1          Buffalo Bills   \n",
       "1        09-07-1980             1980              1     Cincinnati Bengals   \n",
       "2        09-07-1980             1980              1      Green Bay Packers   \n",
       "3        09-07-1980             1980              1     Kansas City Chiefs   \n",
       "4        09-07-1980             1980              1       Los Angeles Rams   \n",
       "...             ...              ...            ...                    ...   \n",
       "10312    01-08-2023             2022             18    Philadelphia Eagles   \n",
       "10313    01-08-2023             2022             18    Pittsburgh Steelers   \n",
       "10314    01-08-2023             2022             18    San Francisco 49ers   \n",
       "10315    01-08-2023             2022             18       Seattle Seahawks   \n",
       "10316    01-08-2023             2022             18  Washington Commanders   \n",
       "\n",
       "       score_home  score_away             team_away team_favorite_id  \\\n",
       "0              17           7        Miami Dolphins              MIA   \n",
       "1              12          17  Tampa Bay Buccaneers               TB   \n",
       "2              12           6         Chicago Bears              CHI   \n",
       "3              14          27       Oakland Raiders               KC   \n",
       "4              20          41         Detroit Lions              LAR   \n",
       "...           ...         ...                   ...              ...   \n",
       "10312          22          16       New York Giants              PHI   \n",
       "10313          28          14      Cleveland Browns              PIT   \n",
       "10314          38          13     Arizona Cardinals               SF   \n",
       "10315          19          16      Los Angeles Rams              SEA   \n",
       "10316          26           6        Dallas Cowboys              DAL   \n",
       "\n",
       "       spread_favorite  over_under_line                  stadium  \\\n",
       "0                 -3.0             35.0     Ralph Wilson Stadium   \n",
       "1                 -1.0             34.0            Cinergy Field   \n",
       "2                 -6.0             35.0            Lambeau Field   \n",
       "3                 -3.0             42.0        Arrowhead Stadium   \n",
       "4                 -9.0             38.0          Anaheim Stadium   \n",
       "...                ...              ...                      ...   \n",
       "10312            -17.0             43.0  Lincoln Financial Field   \n",
       "10313             -2.5             40.0         Acrisure Stadium   \n",
       "10314            -14.5             40.0           Levi's Stadium   \n",
       "10315             -4.5             43.0              Lumen Field   \n",
       "10316             -7.5             41.0              FedEx Field   \n",
       "\n",
       "       weather_temperature  weather_wind_mph  \n",
       "0                     64.0               8.0  \n",
       "1                     72.0               9.0  \n",
       "2                     65.0               5.0  \n",
       "3                     82.0              10.0  \n",
       "4                     66.0              11.0  \n",
       "...                    ...               ...  \n",
       "10312                 64.0               7.0  \n",
       "10313                 64.0               7.0  \n",
       "10314                 64.0               7.0  \n",
       "10315                 64.0               7.0  \n",
       "10316                 64.0               7.0  \n",
       "\n",
       "[10317 rows x 13 columns]"
      ]
     },
     "execution_count": 48,
     "metadata": {},
     "output_type": "execute_result"
    }
   ],
   "source": [
    "scores"
   ]
  },
  {
   "attachments": {},
   "cell_type": "markdown",
   "metadata": {},
   "source": [
    "### FEATURES"
   ]
  },
  {
   "cell_type": "code",
   "execution_count": 49,
   "metadata": {},
   "outputs": [],
   "source": [
    "# Calcula la diferencia de puntajes entre el equipo local y visitante\n",
    "scores['score_diff'] = scores['score_home'] - scores['score_away']"
   ]
  },
  {
   "cell_type": "code",
   "execution_count": 50,
   "metadata": {},
   "outputs": [],
   "source": [
    "scores[\"result\"] = (scores[\"score_home\"] >= scores[\"score_away\"]).astype(int)"
   ]
  },
  {
   "cell_type": "code",
   "execution_count": 51,
   "metadata": {},
   "outputs": [],
   "source": [
    "scores['total_points'] = scores['score_home'] + scores['score_away']"
   ]
  },
  {
   "cell_type": "code",
   "execution_count": 52,
   "metadata": {},
   "outputs": [],
   "source": [
    "# #Creamos nuestro target llamado \"winner\"\n",
    "# def calcular_ganador(row):\n",
    "#     if row['score_home'] > row['score_away']:\n",
    "#         return 1\n",
    "#     elif row['score_home'] < row['score_away']:\n",
    "#         return 0\n",
    "#     else:\n",
    "#         return \"tie\"\n",
    "\n",
    "# # Creamos la nueva columna \"winner\" que será nuestro target\n",
    "# scores['winner'] = scores.apply(calcular_ganador, axis=1)\n"
   ]
  },
  {
   "cell_type": "code",
   "execution_count": 53,
   "metadata": {},
   "outputs": [],
   "source": [
    "#Buscamos un resultado de victoria y vemos que desde 1980 en temporada regular solo han habido 26 empates procedemos a eliminarlo.\n",
    "# scores[\"winner\"].value_counts()"
   ]
  },
  {
   "cell_type": "code",
   "execution_count": 54,
   "metadata": {},
   "outputs": [],
   "source": [
    "# scores = scores[scores['winner'] != \"tie\"]"
   ]
  },
  {
   "cell_type": "code",
   "execution_count": 55,
   "metadata": {},
   "outputs": [
    {
     "name": "stdout",
     "output_type": "stream",
     "text": [
      "<class 'pandas.core.frame.DataFrame'>\n",
      "RangeIndex: 10317 entries, 0 to 10316\n",
      "Data columns (total 16 columns):\n",
      " #   Column               Non-Null Count  Dtype  \n",
      "---  ------               --------------  -----  \n",
      " 0   schedule_date        10317 non-null  object \n",
      " 1   schedule_season      10317 non-null  int64  \n",
      " 2   schedule_week        10317 non-null  int64  \n",
      " 3   team_home            10317 non-null  object \n",
      " 4   score_home           10317 non-null  int64  \n",
      " 5   score_away           10317 non-null  int64  \n",
      " 6   team_away            10317 non-null  object \n",
      " 7   team_favorite_id     10317 non-null  object \n",
      " 8   spread_favorite      10317 non-null  float64\n",
      " 9   over_under_line      10317 non-null  float64\n",
      " 10  stadium              10317 non-null  object \n",
      " 11  weather_temperature  10317 non-null  float64\n",
      " 12  weather_wind_mph     10317 non-null  float64\n",
      " 13  score_diff           10317 non-null  int64  \n",
      " 14  result               10317 non-null  int64  \n",
      " 15  total_points         10317 non-null  int64  \n",
      "dtypes: float64(4), int64(7), object(5)\n",
      "memory usage: 1.3+ MB\n"
     ]
    }
   ],
   "source": [
    "scores.info()"
   ]
  },
  {
   "cell_type": "code",
   "execution_count": 56,
   "metadata": {},
   "outputs": [],
   "source": [
    "scores = scores.astype({\n",
    "                        \"team_home\":\"category\",\n",
    "                        \"team_away\":\"category\",\n",
    "                        \"team_favorite_id\":\"category\",\n",
    "                        \"stadium\":\"category\",\n",
    "                        })"
   ]
  },
  {
   "cell_type": "code",
   "execution_count": 57,
   "metadata": {},
   "outputs": [
    {
     "name": "stdout",
     "output_type": "stream",
     "text": [
      "<class 'pandas.core.frame.DataFrame'>\n",
      "RangeIndex: 10317 entries, 0 to 10316\n",
      "Data columns (total 16 columns):\n",
      " #   Column               Non-Null Count  Dtype   \n",
      "---  ------               --------------  -----   \n",
      " 0   schedule_date        10317 non-null  object  \n",
      " 1   schedule_season      10317 non-null  int64   \n",
      " 2   schedule_week        10317 non-null  int64   \n",
      " 3   team_home            10317 non-null  category\n",
      " 4   score_home           10317 non-null  int64   \n",
      " 5   score_away           10317 non-null  int64   \n",
      " 6   team_away            10317 non-null  category\n",
      " 7   team_favorite_id     10317 non-null  category\n",
      " 8   spread_favorite      10317 non-null  float64 \n",
      " 9   over_under_line      10317 non-null  float64 \n",
      " 10  stadium              10317 non-null  category\n",
      " 11  weather_temperature  10317 non-null  float64 \n",
      " 12  weather_wind_mph     10317 non-null  float64 \n",
      " 13  score_diff           10317 non-null  int64   \n",
      " 14  result               10317 non-null  int64   \n",
      " 15  total_points         10317 non-null  int64   \n",
      "dtypes: category(4), float64(4), int64(7), object(1)\n",
      "memory usage: 1014.5+ KB\n"
     ]
    }
   ],
   "source": [
    "scores.info()"
   ]
  },
  {
   "cell_type": "code",
   "execution_count": 58,
   "metadata": {},
   "outputs": [
    {
     "data": {
      "image/png": "[encoded data removed]",
      "text/plain": [
       "<Figure size 2000x1500 with 12 Axes>"
      ]
     },
     "metadata": {},
     "output_type": "display_data"
    }
   ],
   "source": [
    "scores.hist(bins=20, figsize=(20,15));"
   ]
  },
  {
   "cell_type": "code",
   "execution_count": 59,
   "metadata": {},
   "outputs": [],
   "source": [
    "from sklearn.preprocessing import LabelEncoder\n",
    "\n",
    "# Supongamos que tienes un DataFrame llamado \"scores\" con una columna llamada \"stadium\" que contiene los nombres de los estadios\n",
    "\n",
    "# Extrae la columna \"stadium\" del DataFrame\n",
    "stadiums = scores['stadium']\n",
    "\n",
    "# Crea una instancia del LabelEncoder\n",
    "encoder = LabelEncoder()\n",
    "\n",
    "# Ajusta y transforma los datos de los estadios utilizando el LabelEncoder\n",
    "stadiums_encoded = encoder.fit_transform(stadiums)\n",
    "\n",
    "# Asigna los datos codificados a una nueva columna \"stadium_encoded\" en el DataFrame\n",
    "scores['stadium'] = stadiums_encoded\n"
   ]
  },
  {
   "cell_type": "code",
   "execution_count": 60,
   "metadata": {},
   "outputs": [],
   "source": [
    "from sklearn.preprocessing import LabelEncoder\n",
    "\n",
    "# Supongamos que tienes un DataFrame llamado \"scores\" con una columna llamada \"team_favorite_id\" que contiene los nombres de los estadios\n",
    "\n",
    "# Extrae la columna \"team_favorite_id\" del DataFrame\n",
    "favs = scores['team_favorite_id']\n",
    "\n",
    "# Crea una instancia del LabelEncoder\n",
    "encoder = LabelEncoder()\n",
    "\n",
    "# Ajusta y transforma los datos de los estadios utilizando el LabelEncoder\n",
    "team_favorite_id_encoded = encoder.fit_transform(favs)\n",
    "\n",
    "# Asigna los datos codificados a una nueva columna \"stadium_encoded\" en el DataFrame\n",
    "scores['team_favorite_id'] = team_favorite_id_encoded"
   ]
  },
  {
   "cell_type": "code",
   "execution_count": 61,
   "metadata": {},
   "outputs": [],
   "source": [
    "scores.schedule_season = scores.schedule_season-2000"
   ]
  },
  {
   "cell_type": "code",
   "execution_count": 62,
   "metadata": {},
   "outputs": [
    {
     "data": {
      "image/png": "[encoded data removed]",
      "text/plain": [
       "<Figure size 2000x1500 with 2 Axes>"
      ]
     },
     "metadata": {},
     "output_type": "display_data"
    }
   ],
   "source": [
    "plt.figure(figsize=(20,15))\n",
    "sns.heatmap(scores.corr().drop([\"result\"]), annot=True);"
   ]
  },
  {
   "cell_type": "code",
   "execution_count": 63,
   "metadata": {},
   "outputs": [],
   "source": [
    "#Guardamos nuevo dataframe con los datos limpios en CSV"
   ]
  },
  {
   "cell_type": "code",
   "execution_count": 64,
   "metadata": {},
   "outputs": [],
   "source": [
    "#Observamos un target balancedo\n",
    "# scores['winner'].value_counts()/len(scores['winner'])*100"
   ]
  },
  {
   "cell_type": "code",
   "execution_count": 65,
   "metadata": {},
   "outputs": [
    {
     "data": {
      "text/html": [
       "<div>\n",
       "<style scoped>\n",
       "    .dataframe tbody tr th:only-of-type {\n",
       "        vertical-align: middle;\n",
       "    }\n",
       "\n",
       "    .dataframe tbody tr th {\n",
       "        vertical-align: top;\n",
       "    }\n",
       "\n",
       "    .dataframe thead th {\n",
       "        text-align: right;\n",
       "    }\n",
       "</style>\n",
       "<table border=\"1\" class=\"dataframe\">\n",
       "  <thead>\n",
       "    <tr style=\"text-align: right;\">\n",
       "      <th></th>\n",
       "      <th>schedule_date</th>\n",
       "      <th>schedule_season</th>\n",
       "      <th>schedule_week</th>\n",
       "      <th>team_home</th>\n",
       "      <th>score_home</th>\n",
       "      <th>score_away</th>\n",
       "      <th>team_away</th>\n",
       "      <th>team_favorite_id</th>\n",
       "      <th>spread_favorite</th>\n",
       "      <th>over_under_line</th>\n",
       "      <th>stadium</th>\n",
       "      <th>weather_temperature</th>\n",
       "      <th>weather_wind_mph</th>\n",
       "      <th>score_diff</th>\n",
       "      <th>result</th>\n",
       "      <th>total_points</th>\n",
       "    </tr>\n",
       "  </thead>\n",
       "  <tbody>\n",
       "    <tr>\n",
       "      <th>0</th>\n",
       "      <td>09-07-1980</td>\n",
       "      <td>-20</td>\n",
       "      <td>1</td>\n",
       "      <td>Buffalo Bills</td>\n",
       "      <td>17</td>\n",
       "      <td>7</td>\n",
       "      <td>Miami Dolphins</td>\n",
       "      <td>19</td>\n",
       "      <td>-3.0</td>\n",
       "      <td>35.0</td>\n",
       "      <td>66</td>\n",
       "      <td>64.0</td>\n",
       "      <td>8.0</td>\n",
       "      <td>10</td>\n",
       "      <td>1</td>\n",
       "      <td>24</td>\n",
       "    </tr>\n",
       "    <tr>\n",
       "      <th>1</th>\n",
       "      <td>09-07-1980</td>\n",
       "      <td>-20</td>\n",
       "      <td>1</td>\n",
       "      <td>Cincinnati Bengals</td>\n",
       "      <td>12</td>\n",
       "      <td>17</td>\n",
       "      <td>Tampa Bay Buccaneers</td>\n",
       "      <td>30</td>\n",
       "      <td>-1.0</td>\n",
       "      <td>34.0</td>\n",
       "      <td>13</td>\n",
       "      <td>72.0</td>\n",
       "      <td>9.0</td>\n",
       "      <td>-5</td>\n",
       "      <td>0</td>\n",
       "      <td>29</td>\n",
       "    </tr>\n",
       "    <tr>\n",
       "      <th>2</th>\n",
       "      <td>09-07-1980</td>\n",
       "      <td>-20</td>\n",
       "      <td>1</td>\n",
       "      <td>Green Bay Packers</td>\n",
       "      <td>12</td>\n",
       "      <td>6</td>\n",
       "      <td>Chicago Bears</td>\n",
       "      <td>5</td>\n",
       "      <td>-6.0</td>\n",
       "      <td>35.0</td>\n",
       "      <td>37</td>\n",
       "      <td>65.0</td>\n",
       "      <td>5.0</td>\n",
       "      <td>6</td>\n",
       "      <td>1</td>\n",
       "      <td>18</td>\n",
       "    </tr>\n",
       "    <tr>\n",
       "      <th>3</th>\n",
       "      <td>09-07-1980</td>\n",
       "      <td>-20</td>\n",
       "      <td>1</td>\n",
       "      <td>Kansas City Chiefs</td>\n",
       "      <td>14</td>\n",
       "      <td>27</td>\n",
       "      <td>Oakland Raiders</td>\n",
       "      <td>15</td>\n",
       "      <td>-3.0</td>\n",
       "      <td>42.0</td>\n",
       "      <td>6</td>\n",
       "      <td>82.0</td>\n",
       "      <td>10.0</td>\n",
       "      <td>-13</td>\n",
       "      <td>0</td>\n",
       "      <td>41</td>\n",
       "    </tr>\n",
       "    <tr>\n",
       "      <th>4</th>\n",
       "      <td>09-07-1980</td>\n",
       "      <td>-20</td>\n",
       "      <td>1</td>\n",
       "      <td>Los Angeles Rams</td>\n",
       "      <td>20</td>\n",
       "      <td>41</td>\n",
       "      <td>Detroit Lions</td>\n",
       "      <td>17</td>\n",
       "      <td>-9.0</td>\n",
       "      <td>38.0</td>\n",
       "      <td>5</td>\n",
       "      <td>66.0</td>\n",
       "      <td>11.0</td>\n",
       "      <td>-21</td>\n",
       "      <td>0</td>\n",
       "      <td>61</td>\n",
       "    </tr>\n",
       "    <tr>\n",
       "      <th>...</th>\n",
       "      <td>...</td>\n",
       "      <td>...</td>\n",
       "      <td>...</td>\n",
       "      <td>...</td>\n",
       "      <td>...</td>\n",
       "      <td>...</td>\n",
       "      <td>...</td>\n",
       "      <td>...</td>\n",
       "      <td>...</td>\n",
       "      <td>...</td>\n",
       "      <td>...</td>\n",
       "      <td>...</td>\n",
       "      <td>...</td>\n",
       "      <td>...</td>\n",
       "      <td>...</td>\n",
       "      <td>...</td>\n",
       "    </tr>\n",
       "    <tr>\n",
       "      <th>10312</th>\n",
       "      <td>01-08-2023</td>\n",
       "      <td>22</td>\n",
       "      <td>18</td>\n",
       "      <td>Philadelphia Eagles</td>\n",
       "      <td>22</td>\n",
       "      <td>16</td>\n",
       "      <td>New York Giants</td>\n",
       "      <td>25</td>\n",
       "      <td>-17.0</td>\n",
       "      <td>43.0</td>\n",
       "      <td>40</td>\n",
       "      <td>64.0</td>\n",
       "      <td>7.0</td>\n",
       "      <td>6</td>\n",
       "      <td>1</td>\n",
       "      <td>38</td>\n",
       "    </tr>\n",
       "    <tr>\n",
       "      <th>10313</th>\n",
       "      <td>01-08-2023</td>\n",
       "      <td>22</td>\n",
       "      <td>18</td>\n",
       "      <td>Pittsburgh Steelers</td>\n",
       "      <td>28</td>\n",
       "      <td>14</td>\n",
       "      <td>Cleveland Browns</td>\n",
       "      <td>27</td>\n",
       "      <td>-2.5</td>\n",
       "      <td>40.0</td>\n",
       "      <td>1</td>\n",
       "      <td>64.0</td>\n",
       "      <td>7.0</td>\n",
       "      <td>14</td>\n",
       "      <td>1</td>\n",
       "      <td>42</td>\n",
       "    </tr>\n",
       "    <tr>\n",
       "      <th>10314</th>\n",
       "      <td>01-08-2023</td>\n",
       "      <td>22</td>\n",
       "      <td>18</td>\n",
       "      <td>San Francisco 49ers</td>\n",
       "      <td>38</td>\n",
       "      <td>13</td>\n",
       "      <td>Arizona Cardinals</td>\n",
       "      <td>29</td>\n",
       "      <td>-14.5</td>\n",
       "      <td>40.0</td>\n",
       "      <td>38</td>\n",
       "      <td>64.0</td>\n",
       "      <td>7.0</td>\n",
       "      <td>25</td>\n",
       "      <td>1</td>\n",
       "      <td>51</td>\n",
       "    </tr>\n",
       "    <tr>\n",
       "      <th>10315</th>\n",
       "      <td>01-08-2023</td>\n",
       "      <td>22</td>\n",
       "      <td>18</td>\n",
       "      <td>Seattle Seahawks</td>\n",
       "      <td>19</td>\n",
       "      <td>16</td>\n",
       "      <td>Los Angeles Rams</td>\n",
       "      <td>28</td>\n",
       "      <td>-4.5</td>\n",
       "      <td>43.0</td>\n",
       "      <td>44</td>\n",
       "      <td>64.0</td>\n",
       "      <td>7.0</td>\n",
       "      <td>3</td>\n",
       "      <td>1</td>\n",
       "      <td>35</td>\n",
       "    </tr>\n",
       "    <tr>\n",
       "      <th>10316</th>\n",
       "      <td>01-08-2023</td>\n",
       "      <td>22</td>\n",
       "      <td>18</td>\n",
       "      <td>Washington Commanders</td>\n",
       "      <td>26</td>\n",
       "      <td>6</td>\n",
       "      <td>Dallas Cowboys</td>\n",
       "      <td>8</td>\n",
       "      <td>-7.5</td>\n",
       "      <td>41.0</td>\n",
       "      <td>21</td>\n",
       "      <td>64.0</td>\n",
       "      <td>7.0</td>\n",
       "      <td>20</td>\n",
       "      <td>1</td>\n",
       "      <td>32</td>\n",
       "    </tr>\n",
       "  </tbody>\n",
       "</table>\n",
       "<p>10317 rows × 16 columns</p>\n",
       "</div>"
      ],
      "text/plain": [
       "      schedule_date  schedule_season  schedule_week              team_home  \\\n",
       "0        09-07-1980              -20              1          Buffalo Bills   \n",
       "1        09-07-1980              -20              1     Cincinnati Bengals   \n",
       "2        09-07-1980              -20              1      Green Bay Packers   \n",
       "3        09-07-1980              -20              1     Kansas City Chiefs   \n",
       "4        09-07-1980              -20              1       Los Angeles Rams   \n",
       "...             ...              ...            ...                    ...   \n",
       "10312    01-08-2023               22             18    Philadelphia Eagles   \n",
       "10313    01-08-2023               22             18    Pittsburgh Steelers   \n",
       "10314    01-08-2023               22             18    San Francisco 49ers   \n",
       "10315    01-08-2023               22             18       Seattle Seahawks   \n",
       "10316    01-08-2023               22             18  Washington Commanders   \n",
       "\n",
       "       score_home  score_away             team_away  team_favorite_id  \\\n",
       "0              17           7        Miami Dolphins                19   \n",
       "1              12          17  Tampa Bay Buccaneers                30   \n",
       "2              12           6         Chicago Bears                 5   \n",
       "3              14          27       Oakland Raiders                15   \n",
       "4              20          41         Detroit Lions                17   \n",
       "...           ...         ...                   ...               ...   \n",
       "10312          22          16       New York Giants                25   \n",
       "10313          28          14      Cleveland Browns                27   \n",
       "10314          38          13     Arizona Cardinals                29   \n",
       "10315          19          16      Los Angeles Rams                28   \n",
       "10316          26           6        Dallas Cowboys                 8   \n",
       "\n",
       "       spread_favorite  over_under_line  stadium  weather_temperature  \\\n",
       "0                 -3.0             35.0       66                 64.0   \n",
       "1                 -1.0             34.0       13                 72.0   \n",
       "2                 -6.0             35.0       37                 65.0   \n",
       "3                 -3.0             42.0        6                 82.0   \n",
       "4                 -9.0             38.0        5                 66.0   \n",
       "...                ...              ...      ...                  ...   \n",
       "10312            -17.0             43.0       40                 64.0   \n",
       "10313             -2.5             40.0        1                 64.0   \n",
       "10314            -14.5             40.0       38                 64.0   \n",
       "10315             -4.5             43.0       44                 64.0   \n",
       "10316             -7.5             41.0       21                 64.0   \n",
       "\n",
       "       weather_wind_mph  score_diff  result  total_points  \n",
       "0                   8.0          10       1            24  \n",
       "1                   9.0          -5       0            29  \n",
       "2                   5.0           6       1            18  \n",
       "3                  10.0         -13       0            41  \n",
       "4                  11.0         -21       0            61  \n",
       "...                 ...         ...     ...           ...  \n",
       "10312               7.0           6       1            38  \n",
       "10313               7.0          14       1            42  \n",
       "10314               7.0          25       1            51  \n",
       "10315               7.0           3       1            35  \n",
       "10316               7.0          20       1            32  \n",
       "\n",
       "[10317 rows x 16 columns]"
      ]
     },
     "execution_count": 65,
     "metadata": {},
     "output_type": "execute_result"
    }
   ],
   "source": [
    "scores"
   ]
  },
  {
   "cell_type": "markdown",
   "metadata": {},
   "source": [
    "## 5. Preparacion del modelo"
   ]
  },
  {
   "cell_type": "code",
   "execution_count": 66,
   "metadata": {},
   "outputs": [
    {
     "data": {
      "text/plain": [
       "(10317, 5)"
      ]
     },
     "execution_count": 66,
     "metadata": {},
     "output_type": "execute_result"
    }
   ],
   "source": [
    "X = scores.drop([\"result\",\n",
    "                 \"schedule_date\",\n",
    "                 \"team_home\",\n",
    "                 \"team_away\",\n",
    "                 \"team_favorite_id\",\n",
    "                 \"stadium\",\n",
    "                 \"score_home\",\n",
    "                 \"score_away\",\n",
    "                 \"schedule_week\",\n",
    "                 \"schedule_season\",\n",
    "                 \"score_diff\"],\n",
    "                axis=1\n",
    ")\n",
    "y = scores['result'].copy()\n",
    "X.shape"
   ]
  },
  {
   "cell_type": "code",
   "execution_count": 67,
   "metadata": {},
   "outputs": [
    {
     "data": {
      "text/html": [
       "<div>\n",
       "<style scoped>\n",
       "    .dataframe tbody tr th:only-of-type {\n",
       "        vertical-align: middle;\n",
       "    }\n",
       "\n",
       "    .dataframe tbody tr th {\n",
       "        vertical-align: top;\n",
       "    }\n",
       "\n",
       "    .dataframe thead th {\n",
       "        text-align: right;\n",
       "    }\n",
       "</style>\n",
       "<table border=\"1\" class=\"dataframe\">\n",
       "  <thead>\n",
       "    <tr style=\"text-align: right;\">\n",
       "      <th></th>\n",
       "      <th>spread_favorite</th>\n",
       "      <th>over_under_line</th>\n",
       "      <th>weather_temperature</th>\n",
       "      <th>weather_wind_mph</th>\n",
       "      <th>total_points</th>\n",
       "    </tr>\n",
       "  </thead>\n",
       "  <tbody>\n",
       "    <tr>\n",
       "      <th>0</th>\n",
       "      <td>-3.0</td>\n",
       "      <td>35.0</td>\n",
       "      <td>64.0</td>\n",
       "      <td>8.0</td>\n",
       "      <td>24</td>\n",
       "    </tr>\n",
       "    <tr>\n",
       "      <th>1</th>\n",
       "      <td>-1.0</td>\n",
       "      <td>34.0</td>\n",
       "      <td>72.0</td>\n",
       "      <td>9.0</td>\n",
       "      <td>29</td>\n",
       "    </tr>\n",
       "    <tr>\n",
       "      <th>2</th>\n",
       "      <td>-6.0</td>\n",
       "      <td>35.0</td>\n",
       "      <td>65.0</td>\n",
       "      <td>5.0</td>\n",
       "      <td>18</td>\n",
       "    </tr>\n",
       "    <tr>\n",
       "      <th>3</th>\n",
       "      <td>-3.0</td>\n",
       "      <td>42.0</td>\n",
       "      <td>82.0</td>\n",
       "      <td>10.0</td>\n",
       "      <td>41</td>\n",
       "    </tr>\n",
       "    <tr>\n",
       "      <th>4</th>\n",
       "      <td>-9.0</td>\n",
       "      <td>38.0</td>\n",
       "      <td>66.0</td>\n",
       "      <td>11.0</td>\n",
       "      <td>61</td>\n",
       "    </tr>\n",
       "    <tr>\n",
       "      <th>...</th>\n",
       "      <td>...</td>\n",
       "      <td>...</td>\n",
       "      <td>...</td>\n",
       "      <td>...</td>\n",
       "      <td>...</td>\n",
       "    </tr>\n",
       "    <tr>\n",
       "      <th>10312</th>\n",
       "      <td>-17.0</td>\n",
       "      <td>43.0</td>\n",
       "      <td>64.0</td>\n",
       "      <td>7.0</td>\n",
       "      <td>38</td>\n",
       "    </tr>\n",
       "    <tr>\n",
       "      <th>10313</th>\n",
       "      <td>-2.5</td>\n",
       "      <td>40.0</td>\n",
       "      <td>64.0</td>\n",
       "      <td>7.0</td>\n",
       "      <td>42</td>\n",
       "    </tr>\n",
       "    <tr>\n",
       "      <th>10314</th>\n",
       "      <td>-14.5</td>\n",
       "      <td>40.0</td>\n",
       "      <td>64.0</td>\n",
       "      <td>7.0</td>\n",
       "      <td>51</td>\n",
       "    </tr>\n",
       "    <tr>\n",
       "      <th>10315</th>\n",
       "      <td>-4.5</td>\n",
       "      <td>43.0</td>\n",
       "      <td>64.0</td>\n",
       "      <td>7.0</td>\n",
       "      <td>35</td>\n",
       "    </tr>\n",
       "    <tr>\n",
       "      <th>10316</th>\n",
       "      <td>-7.5</td>\n",
       "      <td>41.0</td>\n",
       "      <td>64.0</td>\n",
       "      <td>7.0</td>\n",
       "      <td>32</td>\n",
       "    </tr>\n",
       "  </tbody>\n",
       "</table>\n",
       "<p>10317 rows × 5 columns</p>\n",
       "</div>"
      ],
      "text/plain": [
       "       spread_favorite  over_under_line  weather_temperature  \\\n",
       "0                 -3.0             35.0                 64.0   \n",
       "1                 -1.0             34.0                 72.0   \n",
       "2                 -6.0             35.0                 65.0   \n",
       "3                 -3.0             42.0                 82.0   \n",
       "4                 -9.0             38.0                 66.0   \n",
       "...                ...              ...                  ...   \n",
       "10312            -17.0             43.0                 64.0   \n",
       "10313             -2.5             40.0                 64.0   \n",
       "10314            -14.5             40.0                 64.0   \n",
       "10315             -4.5             43.0                 64.0   \n",
       "10316             -7.5             41.0                 64.0   \n",
       "\n",
       "       weather_wind_mph  total_points  \n",
       "0                   8.0            24  \n",
       "1                   9.0            29  \n",
       "2                   5.0            18  \n",
       "3                  10.0            41  \n",
       "4                  11.0            61  \n",
       "...                 ...           ...  \n",
       "10312               7.0            38  \n",
       "10313               7.0            42  \n",
       "10314               7.0            51  \n",
       "10315               7.0            35  \n",
       "10316               7.0            32  \n",
       "\n",
       "[10317 rows x 5 columns]"
      ]
     },
     "execution_count": 67,
     "metadata": {},
     "output_type": "execute_result"
    }
   ],
   "source": [
    "X"
   ]
  },
  {
   "cell_type": "code",
   "execution_count": 34,
   "metadata": {},
   "outputs": [],
   "source": [
    "scaler = StandardScaler()"
   ]
  },
  {
   "cell_type": "code",
   "execution_count": 35,
   "metadata": {},
   "outputs": [],
   "source": [
    "X_train, X_test, y_train, y_test = train_test_split(X, y, test_size = 0.20, random_state = 42)"
   ]
  },
  {
   "cell_type": "code",
   "execution_count": 36,
   "metadata": {},
   "outputs": [],
   "source": [
    "scaler_X_train = scaler.fit_transform(X_train)"
   ]
  },
  {
   "cell_type": "code",
   "execution_count": 37,
   "metadata": {},
   "outputs": [],
   "source": [
    "scaler_X_test = scaler.transform(X_test)"
   ]
  },
  {
   "cell_type": "markdown",
   "metadata": {},
   "source": [
    "## 6. Modelos de clasificación y evaluación:"
   ]
  },
  {
   "cell_type": "markdown",
   "metadata": {},
   "source": [
    "#### 6.1 Logistic Regression"
   ]
  },
  {
   "cell_type": "code",
   "execution_count": 68,
   "metadata": {},
   "outputs": [],
   "source": [
    "log_model = LogisticRegression()"
   ]
  },
  {
   "cell_type": "code",
   "execution_count": 69,
   "metadata": {},
   "outputs": [
    {
     "ename": "NameError",
     "evalue": "name 'scaler_X_train' is not defined",
     "output_type": "error",
     "traceback": [
      "\u001b[0;31m---------------------------------------------------------------------------\u001b[0m",
      "\u001b[0;31mNameError\u001b[0m                                 Traceback (most recent call last)",
      "Cell \u001b[0;32mIn[69], line 1\u001b[0m\n\u001b[0;32m----> 1\u001b[0m log_model\u001b[39m.\u001b[39mfit(scaler_X_train,y_train)\n",
      "\u001b[0;31mNameError\u001b[0m: name 'scaler_X_train' is not defined"
     ]
    }
   ],
   "source": [
    "log_model.fit(scaler_X_train,y_train)"
   ]
  },
  {
   "cell_type": "code",
   "execution_count": null,
   "metadata": {},
   "outputs": [],
   "source": [
    "pred_lg = log_model.predict(scaler_X_test)"
   ]
  },
  {
   "cell_type": "code",
   "execution_count": null,
   "metadata": {},
   "outputs": [],
   "source": [
    "print(\"ROC:\",roc_auc_score(y_test, pred_lg)*100)\n",
    "print(\"Accuracy:\",accuracy_score(y_test, pred_lg)*100)\n",
    "print(\"Precision:\",precision_score(y_test, pred_lg)*100)\n",
    "print(\"F1 Score:\",f1_score(y_test, pred_lg)*100)\n",
    "print(\"Recall:\",recall_score(y_test, pred_lg)*100)"
   ]
  },
  {
   "cell_type": "markdown",
   "metadata": {},
   "source": [
    "#### 6.2 Decision Tree Classifier"
   ]
  },
  {
   "cell_type": "code",
   "execution_count": null,
   "metadata": {},
   "outputs": [],
   "source": [
    "dt = DecisionTreeClassifier()"
   ]
  },
  {
   "cell_type": "code",
   "execution_count": null,
   "metadata": {},
   "outputs": [],
   "source": [
    "dt.fit(scaler_X_train,y_train)"
   ]
  },
  {
   "cell_type": "code",
   "execution_count": null,
   "metadata": {},
   "outputs": [],
   "source": [
    "pred_dt = dt.predict(scaler_X_test)"
   ]
  },
  {
   "cell_type": "code",
   "execution_count": null,
   "metadata": {},
   "outputs": [],
   "source": [
    "print(\"ROC:\",roc_auc_score(y_test, pred_dt)*100)\n",
    "print(\"Accuracy:\",accuracy_score(y_test, pred_dt)*100)\n",
    "print(\"Precision:\",precision_score(y_test, pred_dt)*100)\n",
    "print(\"F1 Score:\",f1_score(y_test, pred_dt)*100)\n",
    "print(\"Recall:\",recall_score(y_test, pred_dt)*100)"
   ]
  },
  {
   "cell_type": "markdown",
   "metadata": {},
   "source": [
    "#### 6.3 Random Forest"
   ]
  },
  {
   "cell_type": "code",
   "execution_count": null,
   "metadata": {},
   "outputs": [],
   "source": [
    "r_forest = RandomForestClassifier()"
   ]
  },
  {
   "cell_type": "code",
   "execution_count": null,
   "metadata": {},
   "outputs": [],
   "source": [
    "r_forest.fit(X_train, y_train)"
   ]
  },
  {
   "cell_type": "code",
   "execution_count": null,
   "metadata": {},
   "outputs": [],
   "source": [
    "pred_r_forest = r_forest.predict(X_test)"
   ]
  },
  {
   "cell_type": "code",
   "execution_count": null,
   "metadata": {},
   "outputs": [],
   "source": [
    "print(\"ROC:\",roc_auc_score(y_test, pred_r_forest)*100)\n",
    "print(\"Accuracy:\",accuracy_score(y_test, pred_r_forest)*100)\n",
    "print(\"Precision:\",precision_score(y_test, pred_r_forest)*100)\n",
    "print(\"F1 Score:\",f1_score(y_test, pred_r_forest)*100)\n",
    "print(\"Recall:\",recall_score(y_test, pred_r_forest)*100)"
   ]
  },
  {
   "cell_type": "markdown",
   "metadata": {},
   "source": [
    "#### 6.4 KNN"
   ]
  },
  {
   "cell_type": "code",
   "execution_count": null,
   "metadata": {},
   "outputs": [],
   "source": [
    "knn = KNeighborsClassifier()"
   ]
  },
  {
   "cell_type": "code",
   "execution_count": null,
   "metadata": {},
   "outputs": [],
   "source": [
    "knn.fit(scaler_X_train,y_train)"
   ]
  },
  {
   "cell_type": "code",
   "execution_count": null,
   "metadata": {},
   "outputs": [],
   "source": [
    "pred_knn = knn.predict(scaler_X_test)"
   ]
  },
  {
   "cell_type": "code",
   "execution_count": null,
   "metadata": {},
   "outputs": [],
   "source": [
    "print(\"ROC:\",roc_auc_score(y_test, pred_knn)*100)\n",
    "print(\"Accuracy:\",accuracy_score(y_test, pred_knn)*100)\n",
    "print(\"Precision:\",precision_score(y_test, pred_knn)*100)\n",
    "print(\"F1 Score:\",f1_score(y_test, pred_knn)*100)\n",
    "print(\"Recall:\",recall_score(y_test, pred_knn)*100)"
   ]
  },
  {
   "cell_type": "markdown",
   "metadata": {},
   "source": [
    "#### 6.5 SVM"
   ]
  },
  {
   "cell_type": "code",
   "execution_count": null,
   "metadata": {},
   "outputs": [],
   "source": [
    "svm = SVC()"
   ]
  },
  {
   "cell_type": "code",
   "execution_count": null,
   "metadata": {},
   "outputs": [],
   "source": [
    "svm.fit(scaler_X_train,y_train)"
   ]
  },
  {
   "cell_type": "code",
   "execution_count": null,
   "metadata": {},
   "outputs": [],
   "source": [
    "pred_svm = svm.predict(scaler_X_test)"
   ]
  },
  {
   "cell_type": "code",
   "execution_count": null,
   "metadata": {},
   "outputs": [],
   "source": [
    "print(\"ROC:\",roc_auc_score(y_test, pred_svm)*100)\n",
    "print(\"Accuracy:\",accuracy_score(y_test, pred_svm)*100)\n",
    "print(\"Precision:\",precision_score(y_test, pred_svm)*100)\n",
    "print(\"F1 Score:\",f1_score(y_test, pred_svm)*100)\n",
    "print(\"Recall:\",recall_score(y_test, pred_svm)*100)"
   ]
  },
  {
   "cell_type": "markdown",
   "metadata": {},
   "source": [
    "#### 6.6 GaussianNB"
   ]
  },
  {
   "cell_type": "code",
   "execution_count": null,
   "metadata": {},
   "outputs": [],
   "source": [
    "gnb = GaussianNB()"
   ]
  },
  {
   "cell_type": "code",
   "execution_count": null,
   "metadata": {},
   "outputs": [],
   "source": [
    "gnb.fit(X_train, y_train)"
   ]
  },
  {
   "cell_type": "code",
   "execution_count": null,
   "metadata": {},
   "outputs": [],
   "source": [
    "pred_gnb = gnb.predict(X_test)"
   ]
  },
  {
   "cell_type": "code",
   "execution_count": null,
   "metadata": {},
   "outputs": [],
   "source": [
    "print(\"ROC:\",roc_auc_score(y_test, pred_gnb)*100)\n",
    "print(\"Accuracy:\",accuracy_score(y_test, pred_gnb)*100)\n",
    "print(\"Precision:\",precision_score(y_test, pred_gnb)*100)\n",
    "print(\"F1 Score:\",f1_score(y_test, pred_gnb)*100)\n",
    "print(\"Recall:\",recall_score(y_test, pred_gnb)*100)"
   ]
  },
  {
   "cell_type": "code",
   "execution_count": null,
   "metadata": {},
   "outputs": [],
   "source": [
    "# from sklearn.model_selection import GridSearchCV\n",
    "# from xgboost import XGBClassifier\n",
    "\n",
    "# # Supongamos que tienes tus datos de entrenamiento y prueba en las variables X_train, y_train, X_test, y_test\n",
    "\n",
    "# # Crea una instancia del clasificador XGBoost\n",
    "# model = XGBClassifier()\n",
    "\n",
    "# # Define los valores que deseas probar para cada hiperparámetro en un diccionario\n",
    "# param_grid = {\n",
    "#     'learning_rate': [0.1, 0.01, 0.001],\n",
    "#     'n_estimators': [100, 500, 1000],\n",
    "#     'max_depth': [3, 5, 7],\n",
    "#     'subsample': [0.8, 0.9, 1.0],\n",
    "#     'colsample_bytree': [0.8, 0.9, 1.0],\n",
    "#     'gamma': [0, 1, 5]\n",
    "# }\n",
    "\n",
    "# # Realiza la búsqueda en cuadrícula utilizando validación cruzada para encontrar la combinación óptima de hiperparámetros\n",
    "# grid_search = GridSearchCV(estimator=model, param_grid=param_grid, scoring='accuracy', cv=5)\n",
    "# grid_search.fit(X_train, y_train)\n",
    "\n",
    "# # Imprime los mejores hiperparámetros encontrados\n",
    "# print(\"Mejores hiperparámetros encontrados:\", grid_search.best_params_)\n",
    "\n",
    "# # Haz predicciones en los datos de prueba utilizando el modelo con los mejores hiperparámetros\n",
    "# predictions = grid_search.best_estimator_.predict(X_test)\n"
   ]
  },
  {
   "cell_type": "markdown",
   "metadata": {},
   "source": [
    "#### 6.7 XGBoost"
   ]
  },
  {
   "cell_type": "code",
   "execution_count": null,
   "metadata": {},
   "outputs": [],
   "source": [
    "xgb = xgb.XGBClassifier()"
   ]
  },
  {
   "cell_type": "code",
   "execution_count": null,
   "metadata": {},
   "outputs": [],
   "source": [
    "xgb.fit(X_train, y_train)"
   ]
  },
  {
   "cell_type": "code",
   "execution_count": null,
   "metadata": {},
   "outputs": [],
   "source": [
    "pred_xgb = xgb.predict(X_test)"
   ]
  },
  {
   "cell_type": "code",
   "execution_count": null,
   "metadata": {},
   "outputs": [],
   "source": [
    "print(\"ROC:\",roc_auc_score(y_test, pred_xgb)*100)\n",
    "print(\"Accuracy:\",accuracy_score(y_test, pred_xgb)*100)\n",
    "print(\"Precision:\",precision_score(y_test, pred_xgb)*100)\n",
    "print(\"F1 Score:\",f1_score(y_test, pred_xgb)*100)\n",
    "print(\"Recall:\",recall_score(y_test, pred_xgb)*100)"
   ]
  },
  {
   "cell_type": "markdown",
   "metadata": {},
   "source": [
    "#### 6.8 CatBoost"
   ]
  },
  {
   "cell_type": "code",
   "execution_count": null,
   "metadata": {},
   "outputs": [],
   "source": [
    "cat = AdaBoostClassifier()"
   ]
  },
  {
   "cell_type": "code",
   "execution_count": null,
   "metadata": {},
   "outputs": [],
   "source": [
    "cat.fit(X_train, y_train)"
   ]
  },
  {
   "cell_type": "code",
   "execution_count": null,
   "metadata": {},
   "outputs": [],
   "source": [
    "pred_cat = cat.predict(X_test)"
   ]
  },
  {
   "cell_type": "code",
   "execution_count": null,
   "metadata": {},
   "outputs": [],
   "source": [
    "print(\"ROC:\",roc_auc_score(y_test, pred_cat)*100)\n",
    "print(\"Accuracy:\",accuracy_score(y_test, pred_cat)*100)\n",
    "print(\"Precision:\",precision_score(y_test, pred_cat)*100)\n",
    "print(\"F1 Score:\",f1_score(y_test, pred_cat)*100)\n",
    "print(\"Recall:\",recall_score(y_test, pred_cat)*100)"
   ]
  },
  {
   "cell_type": "markdown",
   "metadata": {},
   "source": [
    "#### 6.9 Gradient Boosting"
   ]
  },
  {
   "cell_type": "code",
   "execution_count": null,
   "metadata": {},
   "outputs": [],
   "source": [
    "gbc = GradientBoostingClassifier()"
   ]
  },
  {
   "cell_type": "code",
   "execution_count": null,
   "metadata": {},
   "outputs": [],
   "source": [
    "gbc.fit(X_train, y_train)"
   ]
  },
  {
   "cell_type": "code",
   "execution_count": null,
   "metadata": {},
   "outputs": [],
   "source": [
    "pred_gbc = gbc.predict(X_test)"
   ]
  },
  {
   "cell_type": "code",
   "execution_count": null,
   "metadata": {},
   "outputs": [],
   "source": [
    "print(\"ROC:\",roc_auc_score(y_test, pred_gbc)*100)\n",
    "print(\"Accuracy:\",accuracy_score(y_test, pred_gbc)*100)\n",
    "print(\"Precision:\",precision_score(y_test, pred_gbc)*100)\n",
    "print(\"F1 Score:\",f1_score(y_test, pred_gbc)*100)\n",
    "print(\"Recall:\",recall_score(y_test, pred_gbc)*100)"
   ]
  },
  {
   "cell_type": "code",
   "execution_count": null,
   "metadata": {},
   "outputs": [],
   "source": [
    "bg = BaggingClassifier()\n",
    "bg.fit(X_train, y_train)\n",
    "pred_bg = bg.predict(X_test)\n",
    "\n",
    "\n",
    "print(\"ROC:\",roc_auc_score(y_test, pred_bg)*100)\n",
    "print(\"Accuracy:\",accuracy_score(y_test, pred_bg)*100)\n",
    "print(\"Precision:\",precision_score(y_test, pred_bg)*100)\n",
    "print(\"F1 Score:\",f1_score(y_test, pred_bg)*100)\n",
    "print(\"Recall:\",recall_score(y_test, pred_bg)*100)"
   ]
  }
 ],
 "metadata": {
  "kernelspec": {
   "display_name": "Python 3",
   "language": "python",
   "name": "python3"
  },
  "language_info": {
   "codemirror_mode": {
    "name": "ipython",
    "version": 3
   },
   "file_extension": ".py",
   "mimetype": "text/x-python",
   "name": "python",
   "nbconvert_exporter": "python",
   "pygments_lexer": "ipython3",
   "version": "3.10.12"
  },
  "orig_nbformat": 4
 },
 "nbformat": 4,
 "nbformat_minor": 2
}
